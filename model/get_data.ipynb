{
 "cells": [
  {
   "cell_type": "code",
   "execution_count": 16,
   "metadata": {},
   "outputs": [],
   "source": [
    "import urllib.request\n",
    "from bs4 import BeautifulSoup\n",
    "import time"
   ]
  },
  {
   "cell_type": "code",
   "execution_count": 6,
   "metadata": {},
   "outputs": [],
   "source": [
    "url = f'http://www.fortunecookiemessage.com/archive.php?start=0'\n",
    "f = urllib.request.urlopen(url)\n",
    "soup = BeautifulSoup(f.read(), 'html.parser')\n",
    "links = soup.select('table.table1 td>a')"
   ]
  },
  {
   "cell_type": "code",
   "execution_count": 14,
   "metadata": {},
   "outputs": [
    {
     "data": {
      "text/plain": [
       "50"
      ]
     },
     "execution_count": 14,
     "metadata": {},
     "output_type": "execute_result"
    }
   ],
   "source": [
    "len(links)"
   ]
  },
  {
   "cell_type": "code",
   "execution_count": 30,
   "metadata": {},
   "outputs": [
    {
     "name": "stdout",
     "output_type": "stream",
     "text": [
      "Page 1 downloaded.\n",
      "Page 2 downloaded.\n",
      "Page 3 downloaded.\n",
      "Page 4 downloaded.\n",
      "Page 5 downloaded.\n",
      "Page 6 downloaded.\n",
      "Page 7 downloaded.\n",
      "Page 8 downloaded.\n",
      "Page 9 downloaded.\n",
      "Page 10 downloaded.\n",
      "Page 11 downloaded.\n",
      "Page 12 downloaded.\n",
      "Page 13 downloaded.\n",
      "Page 14 downloaded.\n",
      "Page 15 downloaded.\n",
      "Page 16 downloaded.\n",
      "Page 17 downloaded.\n"
     ]
    }
   ],
   "source": [
    "with open('cookie.txt', 'w') as out:\n",
    "    out.write('text\\n')\n",
    "    for i in range(0, 801, 50):\n",
    "        url = f'http://www.fortunecookiemessage.com/archive.php?start={i}'\n",
    "        f = urllib.request.urlopen(url)\n",
    "        soup = BeautifulSoup(f.read(), 'html.parser')\n",
    "        links = soup.select('table.table1 td>a')\n",
    "        \n",
    "        for link in links:\n",
    "            try:\n",
    "                out.write(f'{link.text}\\n')\n",
    "            except: pass\n",
    "        print(f'Page {i//50+1} downloaded.')\n",
    "        time.sleep(1)"
   ]
  },
  {
   "cell_type": "code",
   "execution_count": null,
   "metadata": {},
   "outputs": [],
   "source": []
  }
 ],
 "metadata": {
  "kernelspec": {
   "display_name": "Python 3",
   "language": "python",
   "name": "python3"
  },
  "language_info": {
   "codemirror_mode": {
    "name": "ipython",
    "version": 3
   },
   "file_extension": ".py",
   "mimetype": "text/x-python",
   "name": "python",
   "nbconvert_exporter": "python",
   "pygments_lexer": "ipython3",
   "version": "3.6.7"
  }
 },
 "nbformat": 4,
 "nbformat_minor": 2
}
